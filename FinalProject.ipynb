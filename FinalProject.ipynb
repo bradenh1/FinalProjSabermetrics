{
 "cells": [
  {
   "cell_type": "code",
   "execution_count": 2,
   "metadata": {},
   "outputs": [],
   "source": [
    "from pybaseball import statcast\n",
    "from pybaseball.lahman import *\n",
    "import numpy as np\n",
    "import pandas as pd"
   ]
  },
  {
   "cell_type": "code",
   "execution_count": 18,
   "metadata": {},
   "outputs": [],
   "source": [
    "fielding = pd.read_csv('fielding.csv')\n",
    "fielding = fielding.loc[fielding['yearID'] >= 1970].copy()\n",
    "# print(fielding)"
   ]
  },
  {
   "cell_type": "code",
   "execution_count": 38,
   "metadata": {},
   "outputs": [],
   "source": [
    "averageDSes = {} #used to store averages so they do not need to be calculated every time\n",
    "minOuts = 500 #minimum number of outs needed for a player to be considered\n",
    "\n",
    "def isValidPos(pos):\n",
    "    validPos = ['1B', '2B', '3B', 'SS', 'OF']\n",
    "    if (pos in validPos):\n",
    "        return True\n",
    "    else:\n",
    "        return False\n",
    "    \n",
    "def isValidEntry(year, pos):\n",
    "    #for checking an entry is valid\n",
    "    if (year < 1970):\n",
    "        return False\n",
    "    if (year> 2018):\n",
    "        return False\n",
    "    \n",
    "    if (isValidPos(pos) == False):\n",
    "        return False\n",
    "    \n",
    "    return True\n",
    "\n",
    "def printSummary(playerID, year, position, pDS, avgDS, playerData):\n",
    "    io = playerData['InnOuts'].values[0]\n",
    "    gp = round(io / 27, 3)\n",
    "    po = playerData['PO'].values[0]\n",
    "    a = playerData['A'].values[0]\n",
    "    dp = playerData['DP'].values[0]\n",
    "    e = playerData['E'].values[0]\n",
    "    \n",
    "    pDS = round(pDS, 5)\n",
    "    avgDS = round(avgDS, 5)\n",
    "    \n",
    "    \n",
    "    print(\"WDS Summary for player\", playerID, \"in\", year, \"at\", position, \":\")\n",
    "    print(\"----------------------------------------------------------------------\")\n",
    "    print(\"Games Played:\", gp)\n",
    "    print(\"Outs Played:\", io)\n",
    "    print(\"Put Outs:\", po)\n",
    "    print(\"Assists:\", a)\n",
    "    print(\"Double Plays:\", dp)\n",
    "    print(\"Errors Commited:\", e)\n",
    "    print(\"----------------------------------------------------------------------\")\n",
    "    outsParticipated = po + a + (0.5 * dp)\n",
    "    print(\"Outs participated in:\", po, \"put outs +\", a, \"assists + (0.5 *\", dp, \"double plays) =  \", outsParticipated)\n",
    "    outRatio = round(outsParticipated / io, 3)\n",
    "    print(\"Out ratio:\", outsParticipated, \"outs participated /\", io, \"outs played =  \", outRatio)\n",
    "    print(\"Defensive Score: ( 200 *\", outRatio, \"[out ratio] ) + ( 0.1 *\", gp, \"games played ) - \", \"( 0.5 *\", e, \"errors ) =  \", pDS)\n",
    "    print(\"Average Defensive Score at\", position, \"in\", year, \":\", avgDS)\n",
    "    print(\"Weighted Defensive Score:\", pDS, \"[player DS] -\", avgDS, \"[average DS] =  \", round(pDS-avgDS, 5))\n",
    "    print(\"----------------------------------------------------------------------\")"
   ]
  },
  {
   "cell_type": "code",
   "execution_count": 5,
   "metadata": {},
   "outputs": [],
   "source": [
    "def calculateDS(InnOuts, PO, A, E, DP):\n",
    "    \n",
    "    if (InnOuts < minOuts):\n",
    "        return np.nan\n",
    "    \n",
    "    outRatio = (PO + A + (0.5 * DP)) / InnOuts\n",
    "    outRatioConstant = 200\n",
    "    gamesPlayed = InnOuts / 27\n",
    "    gamesPlayedConstant = 0.1\n",
    "    errorConstant = 0.5\n",
    "    \n",
    "    DS = (outRatioConstant * outRatio) + (gamesPlayedConstant * gamesPlayed) - (errorConstant * E)\n",
    "    return DS\n",
    "\n",
    "def getAverageDS(year, position):\n",
    "    \n",
    "    if (isValidEntry(year, position) == False):\n",
    "        print(\"Not a valid entry!\")\n",
    "        return\n",
    "    \n",
    "    #If average has already been calculated, grab it instead of calculating again\n",
    "    if (year, position) in averageDSes:\n",
    "        return averageDSes[(year, position)]\n",
    "    \n",
    "    posData = fielding.loc[(fielding['yearID'] == year) & (fielding['POS'] == position)].copy()\n",
    "    #group by playerID to sum players who were traded mid season\n",
    "    posData = posData.groupby('playerID', as_index=True).agg({'G':'sum', 'GS':'sum', 'InnOuts':'sum', 'PO':'sum', 'A':'sum', 'E':'sum', 'DP':'sum'})\n",
    "    #make sure player meets minimum number of outs played\n",
    "    posData = posData.loc[(posData['InnOuts'] > minOuts)].copy()\n",
    "    \n",
    "    #calculate DS for each player\n",
    "    dses = []\n",
    "    for index, row in posData.iterrows():\n",
    "        ds = calculateDS(row['InnOuts'], row['PO'], row['A'], row['E'], row['DP'])\n",
    "        dses.append(ds)\n",
    "    \n",
    "    #average DSes together\n",
    "    avgDS = sum(dses) / len(dses)\n",
    "    \n",
    "    #add average to list so it can be referenced again\n",
    "    averageDSes[(year, position)] = avgDS\n",
    "    \n",
    "    return avgDS\n",
    "\n",
    "def getPlayerWDS(playerID, year, position, printData):\n",
    "    if (isValidEntry(year, position) == False):\n",
    "        print(\"Not a valid entry!\")\n",
    "        return\n",
    "    \n",
    "    playerData = fielding.loc[(fielding['playerID'] == playerID) & (fielding['yearID'] == year) & (fielding['POS'] == position)].copy()\n",
    "    if (playerData.empty):\n",
    "        print(\"PlayerID not found!\")\n",
    "        return\n",
    "    \n",
    "    playerData = playerData.groupby('playerID', as_index=True).agg({'G':'sum', 'GS':'sum', 'InnOuts':'sum', 'PO':'sum', 'A':'sum', 'E':'sum', 'DP':'sum'})\n",
    "    pDS = calculateDS(playerData['InnOuts'].values[0], playerData['PO'].values[0], playerData['A'].values[0], playerData['E'].values[0], playerData['DP'].values[0])\n",
    "    avgDS = getAverageDS(year, position)\n",
    "    \n",
    "    #weight DS with average DS\n",
    "    WDS = pDS - avgDS\n",
    "    \n",
    "    if (printData == True):\n",
    "        printSummary(playerID, year, position, pDS, avgDS, playerData)\n",
    "    \n",
    "    \n",
    "    #if player didn't meet minimum outs, give WDS of 0\n",
    "    if(np.isnan(pDS)):\n",
    "        return 0\n",
    "    else:\n",
    "        return WDS\n",
    "    \n",
    "    "
   ]
  },
  {
   "cell_type": "code",
   "execution_count": 7,
   "metadata": {},
   "outputs": [],
   "source": [
    "def printTopPlayers(year, position, quantity, invert):\n",
    "    if (isValidEntry(year, position) == False):\n",
    "        print(\"Not a valid entry!\")\n",
    "        return\n",
    "    \n",
    "    data = fielding.loc[(fielding['yearID'] == year) & (fielding['POS'] == position)].copy()\n",
    "    \n",
    "    playerIDs = [] # list used to avoid duplicates\n",
    "    playerWDSes = [] # list used to store WDS to later create dataframe\n",
    "    #for every player, calculate WDS and append to list\n",
    "    for index, row in data.iterrows():\n",
    "        pID = row['playerID']\n",
    "        if (pID not in playerIDs):\n",
    "            playerIDs.append(pID)\n",
    "            WDS = getPlayerWDS(pID, year, position, False)\n",
    "            playerWDSes.append([pID, WDS])\n",
    "    \n",
    "    #add data to a dataframe for easier use\n",
    "    df = pd.DataFrame(playerWDSes, columns = ['PlayerID', 'WDS']) \n",
    "    df = df.sort_values(by='WDS', ascending=invert)\n",
    "    print(df.head(quantity))"
   ]
  },
  {
   "cell_type": "code",
   "execution_count": 36,
   "metadata": {},
   "outputs": [
    {
     "name": "stdout",
     "output_type": "stream",
     "text": [
      "Not a valid entry!\n"
     ]
    }
   ],
   "source": [
    "# printTopPlayers(year, position, quantity, invert)\n",
    "printTopPlayers(2021, 'F', 50, False)"
   ]
  },
  {
   "cell_type": "code",
   "execution_count": 39,
   "metadata": {},
   "outputs": [
    {
     "name": "stdout",
     "output_type": "stream",
     "text": [
      "WDS Summary for player arenano01 in 2018 at 3B :\n",
      "----------------------------------------------------------------------\n",
      "Games Played: 147.593\n",
      "Outs Played: 3985.0\n",
      "Put Outs: 104\n",
      "Assists: 312\n",
      "Double Plays: 44\n",
      "Errors Commited: 14.0\n",
      "----------------------------------------------------------------------\n",
      "Outs participated in: 104 put outs + 312 assists + (0.5 * 44 double plays) =   438.0\n",
      "Out ratio: 438.0 outs participated / 3985.0 outs played =   0.11\n",
      "Defensive Score: ( 200 * 0.11 [out ratio] ) + ( 0.1 * 147.593 games played ) -  ( 0.5 * 14.0 errors ) =   29.74169\n",
      "Average Defensive Score at 3B in 2018 : 22.83973\n",
      "Weighted Defensive Score: 29.74169 [player DS] - 22.83973 [average DS] =   6.90196\n",
      "----------------------------------------------------------------------\n"
     ]
    },
    {
     "data": {
      "text/plain": [
       "6.9019620080853095"
      ]
     },
     "execution_count": 39,
     "metadata": {},
     "output_type": "execute_result"
    }
   ],
   "source": [
    "# getPlayerWDS(playerID, year, position, printSummary)\n",
    "getPlayerWDS('arenano01', 2018, '3B', True)\n",
    "# print(getAverageDS(2018, '3B'))"
   ]
  },
  {
   "cell_type": "code",
   "execution_count": null,
   "metadata": {},
   "outputs": [],
   "source": []
  }
 ],
 "metadata": {
  "kernelspec": {
   "display_name": "Python 3",
   "language": "python",
   "name": "python3"
  },
  "language_info": {
   "codemirror_mode": {
    "name": "ipython",
    "version": 3
   },
   "file_extension": ".py",
   "mimetype": "text/x-python",
   "name": "python",
   "nbconvert_exporter": "python",
   "pygments_lexer": "ipython3",
   "version": "3.6.5"
  }
 },
 "nbformat": 4,
 "nbformat_minor": 2
}
